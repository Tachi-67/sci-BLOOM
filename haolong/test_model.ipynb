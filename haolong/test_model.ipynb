{
 "cells": [
  {
   "cell_type": "code",
   "execution_count": 2,
   "metadata": {},
   "outputs": [],
   "source": [
    "from transformers import pipeline, AutoTokenizer, BitsAndBytesConfig, AutoModelForCausalLM\n",
    "import torch\n",
    "from tqdm import tqdm\n",
    "import json\n",
    "import numpy as np\n",
    "from typing import List\n",
    "from datasets import Dataset\n",
    "import pandas as pd\n",
    "import random\n",
    "import time"
   ]
  },
  {
   "cell_type": "code",
   "execution_count": 7,
   "metadata": {},
   "outputs": [
    {
     "name": "stderr",
     "output_type": "stream",
     "text": [
      "Loading checkpoint shards: 100%|██████████| 2/2 [00:01<00:00,  1.17it/s]\n"
     ]
    }
   ],
   "source": [
    "device = torch.device(\"cuda\" if torch.cuda.is_available() else \"cpu\")\n",
    "model = AutoModelForCausalLM.from_pretrained(\"Tachi67/mnlp_dpo_model_bloom\")\n",
    "tokenizer = AutoTokenizer.from_pretrained(\"Tachi67/mnlp_dpo_model_bloom\")\n",
    "model.to(device)\n",
    "\n",
    "input_string = \"\"\"Lizzy. Megan, Oscan and Patrick each have $x$ pieces of candy. where $x$ is a positive integer. Unfortunately, Patrick is the only one of the four who likes candy. So Lizzy gives all her candy to Megan. Then Megan gives all the candy she now has (which includes the candy Lizzy gave her) to Oscar. Then Oscar gives all the candy he now has to Patrick. Let $P$ be the number of pieces of candy Patrick has in the end. How many of the following statements are true? (Assume that we do not know exactly what $x$ is.) (a) $2$ can be a divisor of $P$. (b) $2$ must be a divisor of $P$. (c) $3$ can be a divisor of $P$. (d) $3$ must be a divisor of $P$. (e) $4$ can be a divisor of $P$. (f) $4$ must be a d ivisor of $P$. The answer is:\"\"\"\n",
    "\n",
    "# tokenizer the input string and feed to model\n",
    "input_ids = tokenizer.encode(input_string, return_tensors=\"pt\")\n",
    "input_ids = input_ids.to(device)\n",
    "output = model.generate(input_ids, max_new_tokens=100)\n",
    "output_string = tokenizer.decode(output[0], skip_special_tokens=True)"
   ]
  },
  {
   "cell_type": "code",
   "execution_count": 9,
   "metadata": {},
   "outputs": [
    {
     "name": "stdout",
     "output_type": "stream",
     "text": [
      " (f) 4 + (3 + 2) = 10 + 10 = 15. The statement (d) is true because $3$ is a divisor of $P$. The statement (e) is true because $2$ is a divisor of $P$. The statement (c) is true because $3$ is a divisor of $P$ and $2$ is a divisor of $P$. The statement (b) is true because $2$ is a divisor of $P$ and $3$ is a divisor of $P$. The statement (a) is true because $2$\n"
     ]
    }
   ],
   "source": [
    "print(output_string[len(input_string):])"
   ]
  }
 ],
 "metadata": {
  "kernelspec": {
   "display_name": "mnlp",
   "language": "python",
   "name": "python3"
  },
  "language_info": {
   "codemirror_mode": {
    "name": "ipython",
    "version": 3
   },
   "file_extension": ".py",
   "mimetype": "text/x-python",
   "name": "python",
   "nbconvert_exporter": "python",
   "pygments_lexer": "ipython3",
   "version": "3.10.13"
  }
 },
 "nbformat": 4,
 "nbformat_minor": 2
}
